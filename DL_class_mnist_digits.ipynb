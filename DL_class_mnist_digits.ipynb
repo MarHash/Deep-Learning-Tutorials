{
  "nbformat": 4,
  "nbformat_minor": 0,
  "metadata": {
    "colab": {
      "name": "DL-class-mnist-digits.ipynb",
      "provenance": [],
      "collapsed_sections": [],
      "toc_visible": true,
      "authorship_tag": "ABX9TyPTpP5AtAGLs/z53qMxxmdT",
      "include_colab_link": true
    },
    "kernelspec": {
      "name": "python3",
      "display_name": "Python 3"
    },
    "language_info": {
      "name": "python"
    }
  },
  "cells": [
    {
      "cell_type": "markdown",
      "metadata": {
        "id": "view-in-github",
        "colab_type": "text"
      },
      "source": [
        "<a href=\"https://colab.research.google.com/github/MarHash/Deep-Learning-Tutorials/blob/main/DL_class_mnist_digits.ipynb\" target=\"_parent\"><img src=\"https://colab.research.google.com/assets/colab-badge.svg\" alt=\"Open In Colab\"/></a>"
      ]
    },
    {
      "cell_type": "code",
      "execution_count": null,
      "metadata": {
        "id": "sDSvsyMUcvD8"
      },
      "outputs": [],
      "source": [
        "import tensorflow as tf\n",
        "\n",
        "mnist = tf.keras.datasets.mnist # 28x28 images of hand-written digits 0-9\n",
        "\n",
        "(x_train, y_train), (x_test, y_test) = mnist.load_data()\n",
        "\n",
        "# let's see the tensor of one instance of the data\n",
        "print(x_train[0])"
      ]
    },
    {
      "cell_type": "code",
      "source": [
        "# we will normalize (scale) the data\n",
        "x_train = tf.keras.utils.normalize(x_train, axis=1)\n",
        "x_test = tf.keras.utils.normalize(x_test, axis=1)\n",
        "\n",
        "print(x_train[0])"
      ],
      "metadata": {
        "id": "4r7b-ga-g0mq"
      },
      "execution_count": null,
      "outputs": []
    },
    {
      "cell_type": "code",
      "source": [
        "# if we plot the data, it will be the number\n",
        "import matplotlib.pyplot as plt\n",
        "\n",
        "plt.imshow(x_test[0], cmap=plt.cm.binary)\n",
        "plt.show()"
      ],
      "metadata": {
        "colab": {
          "base_uri": "https://localhost:8080/",
          "height": 265
        },
        "id": "rQ3NUL1Sf4ue",
        "outputId": "032d1d1a-2941-4840-803a-de3406ff9638"
      },
      "execution_count": 18,
      "outputs": [
        {
          "output_type": "display_data",
          "data": {
            "image/png": "[encoded data removed]",
            "text/plain": [
              "<Figure size 432x288 with 1 Axes>"
            ]
          },
          "metadata": {
            "needs_background": "light"
          }
        }
      ]
    },
    {
      "cell_type": "code",
      "source": [
        "# let's create a model\n",
        "model = tf.keras.models.Sequential()\n",
        "\n",
        "# first is our input layer, we will flatten the dataset (remember our input is 28x28) using a layer called flatten as an input\n",
        "model.add(tf.keras.layers.Flatten())\n",
        "\n",
        "# now we add our dense layers with an activation function, and n neurons\n",
        "model.add(tf.keras.layers.Dense(128, activation=tf.nn.relu))\n",
        "model.add(tf.keras.layers.Dense(128, activation=tf.nn.relu))\n",
        "\n",
        "# now we add our output layer. 10 neurons for 10 classes (0-9). We use softmax becuase this is a probability distribution\n",
        "model.add(tf.keras.layers.Dense(10, activation=tf.nn.softmax))\n",
        "\n",
        "\n",
        "# next is training the model\n",
        "model.compile(optimizer='adam', # the optimizer is usually dependent on an algorithm\n",
        "              loss='sparse_categorical_crossentropy', # loss is what the network calculates to learn, it will attempt to reduce it as it is learning\n",
        "              metrics=['accuracy']) # the scoring metric to track\n",
        "\n",
        "model.fit(x_train, y_train, epochs=8) # epochs is the number of passes through our whole dataset\n"
      ],
      "metadata": {
        "colab": {
          "base_uri": "https://localhost:8080/"
        },
        "id": "n8bGcDW9iKHl",
        "outputId": "695d690c-259e-4a16-e1f3-521c5332e709"
      },
      "execution_count": 8,
      "outputs": [
        {
          "output_type": "stream",
          "name": "stdout",
          "text": [
            "Epoch 1/8\n",
            "1875/1875 [==============================] - 5s 3ms/step - loss: 0.2690 - accuracy: 0.9200\n",
            "Epoch 2/8\n",
            "1875/1875 [==============================] - 5s 3ms/step - loss: 0.1064 - accuracy: 0.9666\n",
            "Epoch 3/8\n",
            "1875/1875 [==============================] - 5s 3ms/step - loss: 0.0719 - accuracy: 0.9775\n",
            "Epoch 4/8\n",
            "1875/1875 [==============================] - 5s 3ms/step - loss: 0.0542 - accuracy: 0.9827\n",
            "Epoch 5/8\n",
            "1875/1875 [==============================] - 5s 3ms/step - loss: 0.0411 - accuracy: 0.9868\n",
            "Epoch 6/8\n",
            "1875/1875 [==============================] - 5s 3ms/step - loss: 0.0308 - accuracy: 0.9895\n",
            "Epoch 7/8\n",
            "1875/1875 [==============================] - 5s 3ms/step - loss: 0.0247 - accuracy: 0.9915\n",
            "Epoch 8/8\n",
            "1875/1875 [==============================] - 5s 3ms/step - loss: 0.0209 - accuracy: 0.9927\n"
          ]
        },
        {
          "output_type": "execute_result",
          "data": {
            "text/plain": [
              "<keras.callbacks.History at 0x7f042815f890>"
            ]
          },
          "metadata": {},
          "execution_count": 8
        }
      ]
    },
    {
      "cell_type": "code",
      "source": [
        "# we got good accuracy reults, now we check that our model is not overfitting on the test set\n",
        "val_loss, val_acc = model.evaluate(x_test, y_test)\n",
        "print(val_loss, val_acc)"
      ],
      "metadata": {
        "colab": {
          "base_uri": "https://localhost:8080/"
        },
        "id": "Xvp8BcOdnd0i",
        "outputId": "93117586-ba4c-42ec-a831-6c01bcbb713a"
      },
      "execution_count": 9,
      "outputs": [
        {
          "output_type": "stream",
          "name": "stdout",
          "text": [
            "313/313 [==============================] - 1s 2ms/step - loss: 0.1083 - accuracy: 0.9744\n",
            "0.1082950308918953 0.974399983882904\n"
          ]
        }
      ]
    },
    {
      "cell_type": "code",
      "source": [
        "# let's save our model\n",
        "model.save('my-digit-classifier.model')"
      ],
      "metadata": {
        "colab": {
          "base_uri": "https://localhost:8080/"
        },
        "id": "i8cbBoSloVLq",
        "outputId": "f624c561-8178-4c47-feb6-0d71b43da687"
      },
      "execution_count": 12,
      "outputs": [
        {
          "output_type": "stream",
          "name": "stdout",
          "text": [
            "INFO:tensorflow:Assets written to: my-digit-classifier.model/assets\n"
          ]
        }
      ]
    },
    {
      "cell_type": "code",
      "source": [
        "# let's use the saved model\n",
        "myModel = tf.keras.models.load_model('my-digit-classifier.model')"
      ],
      "metadata": {
        "id": "9Qw0Fhg1otQV"
      },
      "execution_count": 13,
      "outputs": []
    },
    {
      "cell_type": "code",
      "source": [
        "# we can also make predictions\n",
        "preds = myModel.predict([x_test])\n",
        "preds"
      ],
      "metadata": {
        "colab": {
          "base_uri": "https://localhost:8080/"
        },
        "id": "GBzDt9Gco98j",
        "outputId": "2de4fcc9-f94c-4373-8a45-974b8ac8e72e"
      },
      "execution_count": 15,
      "outputs": [
        {
          "output_type": "execute_result",
          "data": {
            "text/plain": [
              "array([[4.92191466e-13, 2.53919080e-10, 3.83493948e-09, ...,\n",
              "        1.00000000e+00, 6.48004653e-13, 3.88375554e-10],\n",
              "       [3.43166399e-16, 1.72127136e-06, 9.99998331e-01, ...,\n",
              "        3.75237688e-12, 3.18901637e-14, 5.99597377e-19],\n",
              "       [9.51150530e-12, 1.00000000e+00, 1.45341206e-09, ...,\n",
              "        4.08148750e-08, 1.54596123e-08, 1.49856696e-10],\n",
              "       ...,\n",
              "       [1.55011349e-14, 7.49392370e-09, 5.31108421e-11, ...,\n",
              "        1.64477342e-07, 1.89427904e-10, 2.27815899e-08],\n",
              "       [5.09660639e-14, 1.20484795e-08, 1.33521149e-14, ...,\n",
              "        2.83922774e-10, 2.66049831e-08, 6.07343323e-16],\n",
              "       [2.27566854e-10, 9.63003635e-11, 8.03599288e-12, ...,\n",
              "        1.39687824e-15, 4.73497803e-12, 2.26733123e-15]], dtype=float32)"
            ]
          },
          "metadata": {},
          "execution_count": 15
        }
      ]
    },
    {
      "cell_type": "code",
      "source": [
        "# note that our predictions are tensors, probably one-hot encoded\n",
        "# we will use argmax to return the value of the class with the highest possibility\n",
        "\n",
        "import numpy as np\n",
        "\n",
        "print(np.argmax(preds[0]))"
      ],
      "metadata": {
        "colab": {
          "base_uri": "https://localhost:8080/"
        },
        "id": "_OUxVdFLpXuk",
        "outputId": "c282a287-e3b9-4517-b4ee-4d89375cf148"
      },
      "execution_count": 17,
      "outputs": [
        {
          "output_type": "stream",
          "name": "stdout",
          "text": [
            "7\n"
          ]
        }
      ]
    }
  ]
}